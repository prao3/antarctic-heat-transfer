{
 "cells": [
  {
   "cell_type": "code",
   "execution_count": 1,
   "id": "71488a31-b62c-4c1a-a14e-6248df407219",
   "metadata": {},
   "outputs": [],
   "source": [
    "import numpy as np\n",
    "import matplotlib.pyplot as plt\n",
    "from netCDF4 import Dataset, num2date"
   ]
  },
  {
   "cell_type": "code",
   "execution_count": 2,
   "id": "9092ffad-4237-475b-bc0a-524ff1cd84d7",
   "metadata": {},
   "outputs": [],
   "source": [
    "# Data file names\n",
    "temp_filename = 'air.mon.mean.nc'\n",
    "uwind_filename = 'uwnd.mon.mean.nc'\n",
    "vwind_filename = 'vwnd.mon.mean.nc'"
   ]
  },
  {
   "cell_type": "code",
   "execution_count": 21,
   "id": "1078d91b-9ab8-40e4-8880-abb0c07889bf",
   "metadata": {},
   "outputs": [],
   "source": [
    "# Reading air temperature data\n",
    "# Also grabbing month data was averaged over, latitude/longitude, and pressure levels\n",
    "with Dataset(temp_filename, 'r') as rootgrp:\n",
    "    # Getting air temperature data\n",
    "    temps = np.array(rootgrp['air'][:])\n",
    "    # Getting times and converting to a readable format\n",
    "    times = np.array(rootgrp['time'][:])\n",
    "    times = num2date(times, rootgrp['time'].units, only_use_cftime_datetimes=False)\n",
    "    # Getting latitude and longitude\n",
    "    lat = np.array(rootgrp['lat'][:])\n",
    "    lon = np.array(rootgrp['lon'][:])\n",
    "    # Getting pressure levels\n",
    "    levels = np.array(rootgrp['level'][:])"
   ]
  },
  {
   "cell_type": "code",
   "execution_count": null,
   "id": "579288b0-9ef5-40f1-bdb4-2d25d0954c06",
   "metadata": {},
   "outputs": [],
   "source": []
  }
 ],
 "metadata": {
  "kernelspec": {
   "display_name": "Python 3 (ipykernel)",
   "language": "python",
   "name": "python3"
  },
  "language_info": {
   "codemirror_mode": {
    "name": "ipython",
    "version": 3
   },
   "file_extension": ".py",
   "mimetype": "text/x-python",
   "name": "python",
   "nbconvert_exporter": "python",
   "pygments_lexer": "ipython3",
   "version": "3.10.1"
  }
 },
 "nbformat": 4,
 "nbformat_minor": 5
}
